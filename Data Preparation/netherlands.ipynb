{
 "cells": [
  {
   "cell_type": "code",
   "execution_count": 2,
   "metadata": {},
   "outputs": [],
   "source": [
    "import pandas as pd"
   ]
  },
  {
   "cell_type": "code",
   "execution_count": 3,
   "metadata": {},
   "outputs": [
    {
     "data": {
      "text/html": [
       "<div>\n",
       "<style scoped>\n",
       "    .dataframe tbody tr th:only-of-type {\n",
       "        vertical-align: middle;\n",
       "    }\n",
       "\n",
       "    .dataframe tbody tr th {\n",
       "        vertical-align: top;\n",
       "    }\n",
       "\n",
       "    .dataframe thead th {\n",
       "        text-align: right;\n",
       "    }\n",
       "</style>\n",
       "<table border=\"1\" class=\"dataframe\">\n",
       "  <thead>\n",
       "    <tr style=\"text-align: right;\">\n",
       "      <th></th>\n",
       "      <th>date</th>\n",
       "      <th>cumDeath</th>\n",
       "    </tr>\n",
       "  </thead>\n",
       "  <tbody>\n",
       "    <tr>\n",
       "      <th>158590</th>\n",
       "      <td>2020-02-27</td>\n",
       "      <td>0</td>\n",
       "    </tr>\n",
       "    <tr>\n",
       "      <th>158591</th>\n",
       "      <td>2020-02-28</td>\n",
       "      <td>0</td>\n",
       "    </tr>\n",
       "    <tr>\n",
       "      <th>158592</th>\n",
       "      <td>2020-02-29</td>\n",
       "      <td>0</td>\n",
       "    </tr>\n",
       "    <tr>\n",
       "      <th>158593</th>\n",
       "      <td>2020-03-01</td>\n",
       "      <td>0</td>\n",
       "    </tr>\n",
       "    <tr>\n",
       "      <th>158594</th>\n",
       "      <td>2020-03-02</td>\n",
       "      <td>0</td>\n",
       "    </tr>\n",
       "    <tr>\n",
       "      <th>...</th>\n",
       "      <td>...</td>\n",
       "      <td>...</td>\n",
       "    </tr>\n",
       "    <tr>\n",
       "      <th>159657</th>\n",
       "      <td>2023-01-29</td>\n",
       "      <td>23079</td>\n",
       "    </tr>\n",
       "    <tr>\n",
       "      <th>159658</th>\n",
       "      <td>2023-01-30</td>\n",
       "      <td>23079</td>\n",
       "    </tr>\n",
       "    <tr>\n",
       "      <th>159659</th>\n",
       "      <td>2023-01-31</td>\n",
       "      <td>23079</td>\n",
       "    </tr>\n",
       "    <tr>\n",
       "      <th>159660</th>\n",
       "      <td>2023-02-01</td>\n",
       "      <td>23081</td>\n",
       "    </tr>\n",
       "    <tr>\n",
       "      <th>159661</th>\n",
       "      <td>2023-02-02</td>\n",
       "      <td>23081</td>\n",
       "    </tr>\n",
       "  </tbody>\n",
       "</table>\n",
       "<p>1072 rows × 2 columns</p>\n",
       "</div>"
      ],
      "text/plain": [
       "              date  cumDeath\n",
       "158590  2020-02-27         0\n",
       "158591  2020-02-28         0\n",
       "158592  2020-02-29         0\n",
       "158593  2020-03-01         0\n",
       "158594  2020-03-02         0\n",
       "...            ...       ...\n",
       "159657  2023-01-29     23079\n",
       "159658  2023-01-30     23079\n",
       "159659  2023-01-31     23079\n",
       "159660  2023-02-01     23081\n",
       "159661  2023-02-02     23081\n",
       "\n",
       "[1072 rows x 2 columns]"
      ]
     },
     "execution_count": 3,
     "metadata": {},
     "output_type": "execute_result"
    }
   ],
   "source": [
    "df = pd.read_csv('../raw_data/Covid_Data/owid-covid-data.csv', sep=\",\")\n",
    "df = df.loc[df['location'] == \"Netherlands\"]\n",
    "df = df[['date','total_deaths']]\n",
    "df = df.fillna(0)\n",
    "df = df.rename(columns={\"date\": \"date\", \"total_deaths\": \"cumDeath\"})\n",
    "df['cumDeath'] = df['cumDeath'].astype(int)\n",
    "df"
   ]
  },
  {
   "cell_type": "code",
   "execution_count": 4,
   "metadata": {},
   "outputs": [],
   "source": [
    "df.to_csv('../processed_data/cumDeathNetherlands.csv', index=False)"
   ]
  }
 ],
 "metadata": {
  "kernelspec": {
   "display_name": "Python 3.9.6 64-bit",
   "language": "python",
   "name": "python3"
  },
  "language_info": {
   "codemirror_mode": {
    "name": "ipython",
    "version": 3
   },
   "file_extension": ".py",
   "mimetype": "text/x-python",
   "name": "python",
   "nbconvert_exporter": "python",
   "pygments_lexer": "ipython3",
   "version": "3.9.6"
  },
  "orig_nbformat": 4,
  "vscode": {
   "interpreter": {
    "hash": "31f2aee4e71d21fbe5cf8b01ff0e069b9275f58929596ceb00d14d90e3e16cd6"
   }
  }
 },
 "nbformat": 4,
 "nbformat_minor": 2
}
