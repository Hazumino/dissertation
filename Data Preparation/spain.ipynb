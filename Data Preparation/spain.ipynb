{
 "cells": [
  {
   "cell_type": "code",
   "execution_count": 2,
   "metadata": {},
   "outputs": [],
   "source": [
    "import pandas as pd"
   ]
  },
  {
   "cell_type": "code",
   "execution_count": 9,
   "metadata": {},
   "outputs": [
    {
     "data": {
      "text/html": [
       "<div>\n",
       "<style scoped>\n",
       "    .dataframe tbody tr th:only-of-type {\n",
       "        vertical-align: middle;\n",
       "    }\n",
       "\n",
       "    .dataframe tbody tr th {\n",
       "        vertical-align: top;\n",
       "    }\n",
       "\n",
       "    .dataframe thead th {\n",
       "        text-align: right;\n",
       "    }\n",
       "</style>\n",
       "<table border=\"1\" class=\"dataframe\">\n",
       "  <thead>\n",
       "    <tr style=\"text-align: right;\">\n",
       "      <th></th>\n",
       "      <th>date</th>\n",
       "      <th>cumDeath</th>\n",
       "    </tr>\n",
       "  </thead>\n",
       "  <tbody>\n",
       "    <tr>\n",
       "      <th>214389</th>\n",
       "      <td>2020-02-01</td>\n",
       "      <td>0</td>\n",
       "    </tr>\n",
       "    <tr>\n",
       "      <th>214390</th>\n",
       "      <td>2020-02-02</td>\n",
       "      <td>0</td>\n",
       "    </tr>\n",
       "    <tr>\n",
       "      <th>214391</th>\n",
       "      <td>2020-02-03</td>\n",
       "      <td>0</td>\n",
       "    </tr>\n",
       "    <tr>\n",
       "      <th>214392</th>\n",
       "      <td>2020-02-04</td>\n",
       "      <td>0</td>\n",
       "    </tr>\n",
       "    <tr>\n",
       "      <th>214393</th>\n",
       "      <td>2020-02-05</td>\n",
       "      <td>0</td>\n",
       "    </tr>\n",
       "    <tr>\n",
       "      <th>...</th>\n",
       "      <td>...</td>\n",
       "      <td>...</td>\n",
       "    </tr>\n",
       "    <tr>\n",
       "      <th>215482</th>\n",
       "      <td>2023-01-29</td>\n",
       "      <td>118434</td>\n",
       "    </tr>\n",
       "    <tr>\n",
       "      <th>215483</th>\n",
       "      <td>2023-01-30</td>\n",
       "      <td>118434</td>\n",
       "    </tr>\n",
       "    <tr>\n",
       "      <th>215484</th>\n",
       "      <td>2023-01-31</td>\n",
       "      <td>118434</td>\n",
       "    </tr>\n",
       "    <tr>\n",
       "      <th>215485</th>\n",
       "      <td>2023-02-01</td>\n",
       "      <td>118434</td>\n",
       "    </tr>\n",
       "    <tr>\n",
       "      <th>215486</th>\n",
       "      <td>2023-02-02</td>\n",
       "      <td>118434</td>\n",
       "    </tr>\n",
       "  </tbody>\n",
       "</table>\n",
       "<p>1098 rows × 2 columns</p>\n",
       "</div>"
      ],
      "text/plain": [
       "              date  cumDeath\n",
       "214389  2020-02-01         0\n",
       "214390  2020-02-02         0\n",
       "214391  2020-02-03         0\n",
       "214392  2020-02-04         0\n",
       "214393  2020-02-05         0\n",
       "...            ...       ...\n",
       "215482  2023-01-29    118434\n",
       "215483  2023-01-30    118434\n",
       "215484  2023-01-31    118434\n",
       "215485  2023-02-01    118434\n",
       "215486  2023-02-02    118434\n",
       "\n",
       "[1098 rows x 2 columns]"
      ]
     },
     "execution_count": 9,
     "metadata": {},
     "output_type": "execute_result"
    }
   ],
   "source": [
    "df = pd.read_csv('../raw_data/Covid_Data/owid-covid-data.csv', sep=\",\")\n",
    "df = df.loc[df['location'] == \"Spain\"]\n",
    "df = df[['date','total_deaths']]\n",
    "df = df.fillna(0)\n",
    "df = df.rename(columns={\"date\": \"date\", \"total_deaths\": \"cumDeath\"})\n",
    "df['cumDeath'] = df['cumDeath'].astype(int)\n",
    "df"
   ]
  },
  {
   "cell_type": "code",
   "execution_count": 10,
   "metadata": {},
   "outputs": [],
   "source": [
    "df.to_csv('../processed_data/cumDeathSpain.csv', index=False)"
   ]
  }
 ],
 "metadata": {
  "kernelspec": {
   "display_name": "Python 3.9.6 64-bit",
   "language": "python",
   "name": "python3"
  },
  "language_info": {
   "codemirror_mode": {
    "name": "ipython",
    "version": 3
   },
   "file_extension": ".py",
   "mimetype": "text/x-python",
   "name": "python",
   "nbconvert_exporter": "python",
   "pygments_lexer": "ipython3",
   "version": "3.9.6"
  },
  "orig_nbformat": 4,
  "vscode": {
   "interpreter": {
    "hash": "31f2aee4e71d21fbe5cf8b01ff0e069b9275f58929596ceb00d14d90e3e16cd6"
   }
  }
 },
 "nbformat": 4,
 "nbformat_minor": 2
}
