{
 "cells": [
  {
   "cell_type": "code",
   "execution_count": 2,
   "metadata": {},
   "outputs": [],
   "source": [
    "import pandas as pd"
   ]
  },
  {
   "cell_type": "code",
   "execution_count": 3,
   "metadata": {},
   "outputs": [],
   "source": [
    "uk_cases = pd.read_csv(\"data/cum-daily-cases-UK.csv\")"
   ]
  },
  {
   "cell_type": "code",
   "execution_count": 89,
   "metadata": {},
   "outputs": [],
   "source": [
    "from datetime import datetime, timedelta\n",
    "def rem_time(d):\n",
    "    s = ''\n",
    "    s = str(d.year) + '-' + str(d.month) + '-' + str(d.day)\n",
    "    return s\n",
    "\n",
    "def get_data(df,start_date,end_date):\n",
    "    pop = 68330000\n",
    "    mask = (df['date'] > start_date) & (df['date'] <= end_date)\n",
    "    df2 = df.loc[mask]\n",
    "    df3 = pd.DataFrame(columns=['time','S', 'I', 'R'])\n",
    "    count = 0\n",
    "    for index, row in df2.iterrows():\n",
    "        start = datetime.strptime(row['date'], \"%Y-%m-%d\")\n",
    "        end = start - timedelta(days=14)\n",
    "        twoWeeks = df.loc[df['date'] == rem_time(end)]\n",
    "        removed = (twoWeeks['cumCasesByPublishDate'].values)[0]\n",
    "        newRow = [count, (pop-row[\"cumCasesByPublishDate\"]), row[\"cumCasesByPublishDate\"]-removed, removed]\n",
    "        df3.loc[count] = newRow\n",
    "        count += 1\n",
    "    return df3"
   ]
  },
  {
   "cell_type": "code",
   "execution_count": 96,
   "metadata": {},
   "outputs": [],
   "source": [
    "df = get_data(uk_cases,\"2021-10-23\",\"2021-10-30\").iloc[::-1]\n",
    "df[\"time\"] = df[\"time\"].values[::-1]\n",
    "df.to_csv(\"/Users/zenodeangeli/Desktop/IndividualProject/idk.csv\",index=False)"
   ]
  }
 ],
 "metadata": {
  "kernelspec": {
   "display_name": "Python 3.9.6 64-bit",
   "language": "python",
   "name": "python3"
  },
  "language_info": {
   "codemirror_mode": {
    "name": "ipython",
    "version": 3
   },
   "file_extension": ".py",
   "mimetype": "text/x-python",
   "name": "python",
   "nbconvert_exporter": "python",
   "pygments_lexer": "ipython3",
   "version": "3.9.6"
  },
  "orig_nbformat": 4,
  "vscode": {
   "interpreter": {
    "hash": "31f2aee4e71d21fbe5cf8b01ff0e069b9275f58929596ceb00d14d90e3e16cd6"
   }
  }
 },
 "nbformat": 4,
 "nbformat_minor": 2
}
