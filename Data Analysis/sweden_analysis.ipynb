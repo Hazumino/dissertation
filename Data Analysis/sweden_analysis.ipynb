{
 "cells": [
  {
   "cell_type": "code",
   "execution_count": null,
   "metadata": {},
   "outputs": [],
   "source": [
    "import numpy as np\n",
    "from scipy.integrate import odeint\n",
    "import matplotlib.pyplot as plt\n",
    "import pandas as pd\n",
    "import matplotlib.dates as mdates\n",
    "from datetime import datetime, timedelta, date\n",
    "from sympy import symbols, solve"
   ]
  },
  {
   "cell_type": "markdown",
   "metadata": {},
   "source": [
    "### SIRD Model\n",
    "differential equation of the SIRD model."
   ]
  },
  {
   "cell_type": "code",
   "execution_count": null,
   "metadata": {},
   "outputs": [],
   "source": [
    "# SIRD model divided into its equations\n",
    "def deriv(y, t, N, beta, gamma, rho):\n",
    "    S, I, R, D= y\n",
    "    dSdt = -(beta * S * I) / N\n",
    "    dIdt = (beta * S * I / N) - (gamma * I) - (rho * I)\n",
    "    dRdt = gamma * I\n",
    "    dDdt = rho * I\n",
    "    return dSdt, dIdt, dRdt, dDdt"
   ]
  },
  {
   "cell_type": "code",
   "execution_count": null,
   "metadata": {},
   "outputs": [],
   "source": [
    "def getSIRD(tf, N, i0, beta, gamma, rho, sd):\n",
    "    t = np.linspace(0, tf, tf)\n",
    "\n",
    "    y0 = N-i0, i0, 0, 0\n",
    "\n",
    "    # Integrate the SIR equations over the time grid, t.\n",
    "    ret = odeint(deriv, y0, t, args=(N, beta, gamma, rho))\n",
    "    S, I, R, D = ret.T\n",
    "\n",
    "    # SD SIR equation\n",
    "    ret = odeint(deriv, y0, t, args=(N, beta-sd[0], gamma-sd[1], rho-sd[2]))\n",
    "    Sm, Im, Rm, Dm = ret.T \n",
    "\n",
    "    # SD SIR equation\n",
    "    ret = odeint(deriv, y0, t, args=(N, beta+sd[0], gamma+sd[1], rho+sd[2]))\n",
    "    Sp, Ip, Rp, Dp = ret.T \n",
    "\n",
    "    return S,I,R,D"
   ]
  }
 ],
 "metadata": {
  "kernelspec": {
   "display_name": "Python 3.9.6 64-bit",
   "language": "python",
   "name": "python3"
  },
  "language_info": {
   "name": "python",
   "version": "3.9.6"
  },
  "orig_nbformat": 4,
  "vscode": {
   "interpreter": {
    "hash": "31f2aee4e71d21fbe5cf8b01ff0e069b9275f58929596ceb00d14d90e3e16cd6"
   }
  }
 },
 "nbformat": 4,
 "nbformat_minor": 2
}
