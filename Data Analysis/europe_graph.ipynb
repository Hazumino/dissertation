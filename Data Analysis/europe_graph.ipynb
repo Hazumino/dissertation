{
 "cells": [
  {
   "cell_type": "code",
   "execution_count": null,
   "metadata": {},
   "outputs": [],
   "source": [
    "import fiona\n",
    "import geopandas as gpd\n",
    "import matplotlib.pyplot as plt\n",
    "import pandas as pd\n",
    "\n",
    "shapefile = \"/Users/zenodeangeli/Desktop/IndividualProject/data/ne_110m_admin_0_countries.shp\"\n",
    "geo_df = gpd.read_file(shapefile)"
   ]
  },
  {
   "cell_type": "code",
   "execution_count": null,
   "metadata": {},
   "outputs": [],
   "source": [
    "# General Information\n",
    "country_list = [\"Italy\", \"United Kindgom\", \"Spain\", \"Switzerland\", \"France\", \"Germany\"]\n",
    "vmin = 0\n",
    "vmax = 5\n",
    "col = \"Example\"\n",
    "fig, ax = plt.subplots(1, figsize=(20, 9))\n",
    "ax.axis('off')\n",
    "africa_map_df = geo_df[geo_df['NAME'].isin(country_list)]\n",
    "\n",
    "# Plotting the desired continent\n",
    "geo_df[(geo_df[\"CONTINENT\"] == \"Europe\")].plot(column=col, ax=ax, color='white', edgecolor='black')\n",
    "\n",
    "# Adding Cmap to \n",
    "cmap = 'viridis'\n",
    "sm = plt.cm.ScalarMappable(norm=plt.Normalize(vmin=vmin, vmax=vmax), cmap=cmap)\n",
    "cbaxes = fig.add_axes([0.35, 0.25, 0.01, 0.5])\n",
    "cbar = fig.colorbar(sm, cax=cbaxes)\n",
    "\n",
    "# Setting Axis limits\n",
    "ax.set_xlim(-30, 50)\n",
    "ax.set_ylim(30, 70)"
   ]
  },
  {
   "cell_type": "code",
   "execution_count": null,
   "metadata": {},
   "outputs": [],
   "source": []
  }
 ],
 "metadata": {
  "kernelspec": {
   "display_name": "Python 3.9.6 64-bit",
   "language": "python",
   "name": "python3"
  },
  "language_info": {
   "name": "python",
   "version": "3.9.6"
  },
  "orig_nbformat": 4,
  "vscode": {
   "interpreter": {
    "hash": "31f2aee4e71d21fbe5cf8b01ff0e069b9275f58929596ceb00d14d90e3e16cd6"
   }
  }
 },
 "nbformat": 4,
 "nbformat_minor": 2
}
